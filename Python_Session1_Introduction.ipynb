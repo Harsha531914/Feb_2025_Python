{
 "cells": [
  {
   "cell_type": "code",
   "execution_count": null,
   "id": "ad578d53-7eb4-42ab-b500-1a9ee1385252",
   "metadata": {},
   "outputs": [],
   "source": [
    "a=10\n",
    "a"
   ]
  },
  {
   "cell_type": "code",
   "execution_count": null,
   "id": "1535fb71-ab56-4ca2-ba12-c9f3142efeb2",
   "metadata": {},
   "outputs": [],
   "source": []
  },
  {
   "cell_type": "code",
   "execution_count": null,
   "id": "e97bb543-70c4-4dfd-91a2-2db103f434d6",
   "metadata": {},
   "outputs": [],
   "source": [
    "a=10\n",
    "b=20\n",
    "a+b"
   ]
  },
  {
   "cell_type": "code",
   "execution_count": null,
   "id": "ebf2130d-b414-46e7-a54f-483732245129",
   "metadata": {},
   "outputs": [],
   "source": [
    "n1=100\n",
    "n1"
   ]
  },
  {
   "cell_type": "code",
   "execution_count": null,
   "id": "75461b37-1034-497d-a86d-0c4380799bf1",
   "metadata": {},
   "outputs": [],
   "source": []
  },
  {
   "cell_type": "markdown",
   "id": "48f17b5c-e0fa-4357-a8f1-fad600746aaa",
   "metadata": {},
   "source": [
    "- Today i am learning Python \n",
    "- I am in code  mode\n",
    "- I need to convert to markdown mode \n",
    "- select the particular cell\n",
    "- change it to markdown mode "
   ]
  },
  {
   "cell_type": "markdown",
   "id": "f8a41fd2-86b0-42c8-9b25-24c7809eb0ab",
   "metadata": {},
   "source": [
    "# Python\n",
    "\n",
    "- When we use Hash in Code Mode ,it behaves as a comment\n",
    "\n",
    "- When we use Hash in Mark Down Mode, it behaves as a title\n",
    "\n",
    "- Shortcut for converting from code mode to markdown mode and execution after is given below\n",
    "- \n",
    "- # Esc+m then Shift+Enter\n",
    "- \n",
    "- Shortcut for converting from markdown mode to code mode is given below\n",
    "- # Esc+y then Shift+Enter \n"
   ]
  },
  {
   "cell_type": "markdown",
   "id": "a284d0d9-aeac-48fe-9308-a7ad304801f3",
   "metadata": {},
   "source": [
    "<img alt=\"\" style=\"width: 295.7px; height: 166.3px; margin-top: 6.8px; margin-left: 0px;\" \n",
    "class=\"\" src=\"https://tse4.mm.bing.net/th?id=OIP.QkSSprAmEIPRhirfLO8L3QHaEK&amp;pid=Api&amp;P=0&amp;h=180\" \n",
    "id=\"yui_3_5_1_1_1729695276879_676\">"
   ]
  },
  {
   "cell_type": "markdown",
   "id": "bc0f5c14-6c2f-450c-8e59-40e00548c462",
   "metadata": {},
   "source": [
    "<div class=\"viewer-top\" id=\"yui_3_8_0_1_1729696620631_513\"><div id=\"viewer-main\" \n",
    "class=\"viewer-main\" style=\"width: 573.01px; height: 349.183px; margin-top: 5.40829px;\">\n",
    "<div class=\"vwload\" style=\"display:none;\"><img src=\"https://s.yimg.com/pv/static/img/loader-201405131103.gif\" alt=\"\">\n",
    "</div><div class=\"playpod\" id=\"yui_3_8_0_1_1729696620631_455\"><div class=\"ppod\">\n",
    "<iframe src=\"//www.youtube.com/embed/NwlwJjelgzs?autoplay=1&amp;wmode=transparent&amp;\n",
    "origin=https://in.video.search.yahoo.com\" frameborder=\"0\" width=\"100%\" height=\"100%\" scrolling=\"no\" allowfullscreen=\"\"></iframe></div></div></div><div class=\"cine\" style=\"\" id=\"yui_3_8_0_1_1729696620631_428\"><label for=\"cinema-mode-toggle\" class=\"c-hd\">Cinema mode</label><button id=\"cinema-mode-toggle\" class=\"c-ico\" fdprocessedid=\"ylnt2\"><span class=\"c-state\" role=\"status\">Off</span><span class=\"c-tog\" aria-hidden=\"true\"></span></button></div><div class=\"viewer-sidebar pos-r fl-l\"><div class=\"viewer-meta\" style=\"margin-top: 45.4083px; width: 200px;\"><h3><a href=\"https://r.search.yahoo.com/_ylt=AwrPrIxtExlnlUMn1k_lHAx.;_ylu=c2VjA2NkLWF0dHIEc2xrA3NvdXJjZQR2dGlkAwRydXJsA2h0dHBzOi8vd3d3LnlvdXR1YmUuY29tL3dhdGNoP3Y9Tndsd0pqZWxnenM-/RV=2/RE=1729725421/RO=10/RU=https%3a%2f%2fwww.youtube.com%2fwatch%3fv%3dNwlwJjelgzs/RK=2/RS=LYM.GMCUZjm.i_wxsaoegW1zGFE-\">Get ready for LAUGHING SUPER HARD - Best <b>FUNNY</b> <b>DOG</b> <b>videos</b></a></h3><p>Dogs and puppies are super <b>funny </b>and hilarious, they make us laugh all the time! The hardest TRY NOT TO LAUGH challenge in the World! Just look how all these dogs and puppies behave, play, fail, make <b>funny </b>sounds, react to different things,... So ridiculous, <b>funny </b>and cute! What is your favorite clip? :) Hope you like our compilation, please ...</p><a class=\"gts\" target=\"_blank\" href=\"https://r.search.yahoo.com/_ylt=AwrPrIxsExln248k8l3mHAx.;_ylu=c2VjA2NkLWF0dHIEc2xrA3NvdXJjZQR2dGlkAw--/RV=2/RE=1729725421/RO=10/RU=https%3a%2f%2fwww.youtube.com%2fwatch%3fv%3dNwlwJjelgzs/RK=2/RS=LYM.GMCUZjm.i_wxsaoegW1zGFE-\">\n",
    "youtube.com</a><span>6 years ago</span></div><div id=\"viewer-ads\"></div></div></div>"
   ]
  },
  {
   "cell_type": "code",
   "execution_count": null,
   "id": "a66526c0-110a-4e68-a7f6-78899e1184d9",
   "metadata": {},
   "outputs": [],
   "source": []
  }
 ],
 "metadata": {
  "kernelspec": {
   "display_name": "Python 3 (ipykernel)",
   "language": "python",
   "name": "python3"
  },
  "language_info": {
   "codemirror_mode": {
    "name": "ipython",
    "version": 3
   },
   "file_extension": ".py",
   "mimetype": "text/x-python",
   "name": "python",
   "nbconvert_exporter": "python",
   "pygments_lexer": "ipython3",
   "version": "3.12.4"
  }
 },
 "nbformat": 4,
 "nbformat_minor": 5
}
