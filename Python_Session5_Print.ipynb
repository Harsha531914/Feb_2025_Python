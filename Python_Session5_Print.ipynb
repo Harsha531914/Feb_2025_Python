{
 "cells": [
  {
   "cell_type": "markdown",
   "id": "b5cc5bdd-6d52-46aa-8ac9-d07041468152",
   "metadata": {},
   "source": [
    "# Print"
   ]
  },
  {
   "cell_type": "code",
   "execution_count": 2,
   "id": "1408bb23-d277-4ef0-80d9-57f080f41113",
   "metadata": {},
   "outputs": [
    {
     "data": {
      "text/plain": [
       "20"
      ]
     },
     "execution_count": 2,
     "metadata": {},
     "output_type": "execute_result"
    }
   ],
   "source": [
    "num1=30\n",
    "num2=20\n",
    "num1\n",
    "num2"
   ]
  },
  {
   "cell_type": "code",
   "execution_count": 3,
   "id": "02155c9d-5ce5-4793-a86d-f1871da675a8",
   "metadata": {},
   "outputs": [
    {
     "name": "stdout",
     "output_type": "stream",
     "text": [
      "30\n",
      "20\n"
     ]
    }
   ],
   "source": [
    "num1=30\n",
    "num2=20\n",
    "print(num1)\n",
    "print(num2)"
   ]
  },
  {
   "cell_type": "code",
   "execution_count": 7,
   "id": "e64f1d39-a768-4f0a-8684-5113704cf424",
   "metadata": {},
   "outputs": [
    {
     "name": "stdout",
     "output_type": "stream",
     "text": [
      "30\n",
      "20\n"
     ]
    }
   ],
   "source": [
    "num1=30\n",
    "num2=20\n",
    "print(num1),print(num2)"
   ]
  },
  {
   "cell_type": "code",
   "execution_count": 8,
   "id": "046c6096-d675-4a66-841c-e27aa3c56911",
   "metadata": {},
   "outputs": [
    {
     "name": "stdout",
     "output_type": "stream",
     "text": [
      "30 20\n"
     ]
    }
   ],
   "source": [
    "num1=30\n",
    "num2=20\n",
    "print(num1,num2)"
   ]
  },
  {
   "cell_type": "code",
   "execution_count": 12,
   "id": "6ec87928-a665-4ca5-aaa4-76477b56fea3",
   "metadata": {},
   "outputs": [
    {
     "name": "stdout",
     "output_type": "stream",
     "text": [
      "The addition of  100 and 200 is 300\n"
     ]
    }
   ],
   "source": [
    "a=100\n",
    "b=200\n",
    "c=a+b\n",
    "print('The addition of ',a ,'and', b ,'is' ,c)"
   ]
  },
  {
   "cell_type": "code",
   "execution_count": 14,
   "id": "d45df50e-bfe7-4746-861f-dc9f89273052",
   "metadata": {},
   "outputs": [
    {
     "name": "stdout",
     "output_type": "stream",
     "text": [
      "My name is  Python I am 10 years old and come from Hyd\n"
     ]
    }
   ],
   "source": [
    "name= 'Python'\n",
    "age =10\n",
    "City= 'Hyd'\n",
    "\n",
    "print('My name is ',name ,'I am',10 ,'years old and come from',City)"
   ]
  },
  {
   "cell_type": "markdown",
   "id": "702c2add-addb-4151-8b4e-ea80f3e5be5b",
   "metadata": {},
   "source": [
    "# Format Method"
   ]
  },
  {
   "cell_type": "code",
   "execution_count": 18,
   "id": "731bb2c5-b72e-4f55-8dd0-c8058da1ab57",
   "metadata": {},
   "outputs": [
    {
     "name": "stdout",
     "output_type": "stream",
     "text": [
      "My name is Python  I am  10 years old from Hyd\n",
      "My Name is Python .I am 10 years old and from Hyd\n"
     ]
    }
   ],
   "source": [
    "name= 'Python'\n",
    "age =10\n",
    "city= 'Hyd'\n",
    "\n",
    "print('My name is {}  I am  {} years old from {}'.format(name,age,city))\n",
    "print('My Name is {} .I am {} years old and from {}'.format(name,age,city))"
   ]
  },
  {
   "cell_type": "code",
   "execution_count": 25,
   "id": "be7e5eea-954f-4d34-a0cd-04e7f81ccf10",
   "metadata": {},
   "outputs": [
    {
     "name": "stdout",
     "output_type": "stream",
     "text": [
      "the addition of 100 and 200 is 300\n",
      "the addition of 100 and 200 is -100\n",
      "the addition of 100 and 200 is 20000\n",
      "the addition of 100 and 200 is 0.5\n"
     ]
    }
   ],
   "source": [
    "n1=100\n",
    "n2=200\n",
    "add=n1+n2\n",
    "sub=n1-n2\n",
    "mul=n1*n2\n",
    "div=n1/n2\n",
    "print('the addition of {} and {} is {}'.format(n1,n2,add))\n",
    "print('the addition of {} and {} is {}'.format(n1,n2,sub))\n",
    "print('the addition of {} and {} is {}'.format(n1,n2,mul))\n",
    "print('the addition of {} and {} is {}'.format(n1,n2,div))\n",
    "\n",
    "      "
   ]
  },
  {
   "cell_type": "markdown",
   "id": "3cb1cd9c-68b6-4483-9841-42280478142a",
   "metadata": {},
   "source": [
    "# f STRING METHOD"
   ]
  },
  {
   "cell_type": "code",
   "execution_count": 27,
   "id": "6eb04099-69cc-4a88-bc81-962defbdd983",
   "metadata": {},
   "outputs": [
    {
     "name": "stdout",
     "output_type": "stream",
     "text": [
      "the addition of 100 and 200 is 300\n",
      "the addition of 100 and 200 is -100\n",
      "the addition of 100 and 200 is 20000\n",
      "the addition of 100 and 200 is 0.5\n"
     ]
    }
   ],
   "source": [
    "print(F'the addition of {n1} and {n2} is {add}')\n",
    "print(F'the addition of {n1} and {n2} is {sub}')\n",
    "print(F'the addition of {n1} and {n2} is {mul}')\n",
    "print(F'the addition of {n1} and {n2} is {div}')"
   ]
  },
  {
   "cell_type": "markdown",
   "id": "8f8c638d-b130-487a-a3ed-c10f8e73560a",
   "metadata": {},
   "source": [
    " # $end$"
   ]
  },
  {
   "cell_type": "markdown",
   "id": "c09fceb1-0d44-4a85-a7b8-249b61b75c8c",
   "metadata": {},
   "source": [
    "- we have a situation where we want to combine 2 print statements. we use end statement."
   ]
  },
  {
   "cell_type": "code",
   "execution_count": 33,
   "id": "87cb201f-9c36-4c71-9bad-ec6d10b22258",
   "metadata": {},
   "outputs": [
    {
     "name": "stdout",
     "output_type": "stream",
     "text": [
      "20****30\n"
     ]
    }
   ],
   "source": [
    "print(20,end='****')\n",
    "a=30\n",
    "print(a)\n"
   ]
  },
  {
   "cell_type": "code",
   "execution_count": 34,
   "id": "d00985b4-3eb5-4b3c-ad5c-a98831db95f3",
   "metadata": {},
   "outputs": [
    {
     "name": "stdout",
     "output_type": "stream",
     "text": [
      "1 2 3\n"
     ]
    }
   ],
   "source": [
    "print(1,end=' ')\n",
    "print(2,end=' ')\n",
    "print(3)"
   ]
  },
  {
   "cell_type": "markdown",
   "id": "90c07b17-1397-4aad-aff4-ef5735ae5b9f",
   "metadata": {},
   "source": [
    "# $ Seperator (Sep) $ "
   ]
  },
  {
   "cell_type": "markdown",
   "id": "d18fb2a7-62a6-4cc5-bd14-be583074d2e3",
   "metadata": {},
   "source": [
    "- If we want to seperate multible variables in one print statements"
   ]
  },
  {
   "cell_type": "code",
   "execution_count": 85,
   "id": "d91ba03a-fb0a-4191-be91-34ffd0ce64f2",
   "metadata": {},
   "outputs": [
    {
     "name": "stdout",
     "output_type": "stream",
     "text": [
      "20=30=50\n",
      "20 30 40\n"
     ]
    }
   ],
   "source": [
    "print(20,30,50,sep='=')\n",
    "print(20,30,40,sep=' ')"
   ]
  },
  {
   "cell_type": "markdown",
   "id": "0cda91fe-a076-40d8-b67b-0b80bf025775",
   "metadata": {},
   "source": [
    "- End operator used to combine multiple print statements\n",
    "- Seperator operator used to seperate multiple print statements"
   ]
  },
  {
   "cell_type": "code",
   "execution_count": 74,
   "id": "8b6c0aa5-4ffd-4b15-8f98-8d9af5c91d7d",
   "metadata": {},
   "outputs": [
    {
     "name": "stdout",
     "output_type": "stream",
     "text": [
      "the addition of 3 and 4 is 7.\n",
      "the addition of 3 and 4 is 7.\n",
      "the addition od 3 and 4 is 7."
     ]
    }
   ],
   "source": [
    "\n",
    "print('the addition of {} and {} is {}.'.format(3,4,(3+4)))\n",
    "print(f'the addition of {3} and {4} is {3+4}.')\n",
    "print('the addition od 3 and 4 is ',3+4,end='.',sep='')\n",
    "\n"
   ]
  },
  {
   "cell_type": "code",
   "execution_count": 78,
   "id": "df539c40-5d5f-42ae-b717-02e77f596c40",
   "metadata": {},
   "outputs": [
    {
     "name": "stdout",
     "output_type": "stream",
     "text": [
      "the addition od 3 and 4 is 7."
     ]
    }
   ],
   "source": [
    "print('the addition od 3 and 4 is ',3+4,end='.',sep='')"
   ]
  }
 ],
 "metadata": {
  "kernelspec": {
   "display_name": "Python 3 (ipykernel)",
   "language": "python",
   "name": "python3"
  },
  "language_info": {
   "codemirror_mode": {
    "name": "ipython",
    "version": 3
   },
   "file_extension": ".py",
   "mimetype": "text/x-python",
   "name": "python",
   "nbconvert_exporter": "python",
   "pygments_lexer": "ipython3",
   "version": "3.12.4"
  }
 },
 "nbformat": 4,
 "nbformat_minor": 5
}
