{
 "cells": [
  {
   "cell_type": "code",
   "execution_count": 1,
   "id": "b777b698-2b08-4e9e-93ca-3ac1f3f68329",
   "metadata": {},
   "outputs": [
    {
     "data": {
      "text/plain": [
       "'C:\\\\Users\\\\Harsh\\\\Documents\\\\Naresh IT Data Science and AI by Omkar Sir\\\\NareshIT\\\\Python Sessions'"
      ]
     },
     "execution_count": 1,
     "metadata": {},
     "output_type": "execute_result"
    }
   ],
   "source": [
    "import os\n",
    "os.getcwd()\n",
    "# Gert Current Working Directory"
   ]
  },
  {
   "cell_type": "markdown",
   "id": "696cda56-712d-4179-9712-7863bbd2848e",
   "metadata": {},
   "source": [
    "## Variables "
   ]
  },
  {
   "cell_type": "markdown",
   "id": "d20d48f5-0e61-443f-894b-bc6cdb0a29c9",
   "metadata": {},
   "source": [
    "Variables are used to store the values and the values can be changed."
   ]
  },
  {
   "cell_type": "markdown",
   "id": "1722bd41-a0ec-4598-a387-965ce7659eca",
   "metadata": {},
   "source": [
    "num=100"
   ]
  },
  {
   "cell_type": "markdown",
   "id": "f0e7bde7-ec07-4372-8967-6295da204e65",
   "metadata": {},
   "source": [
    "#Value 100 stored in the variable called :  num \n",
    "Print(num)"
   ]
  },
  {
   "cell_type": "code",
   "execution_count": 5,
   "id": "fe72277b-698f-4688-ae08-c208ef314a17",
   "metadata": {},
   "outputs": [
    {
     "data": {
      "text/plain": [
       "100"
      ]
     },
     "execution_count": 5,
     "metadata": {},
     "output_type": "execute_result"
    }
   ],
   "source": [
    "number=100\n",
    "number\n"
   ]
  },
  {
   "cell_type": "code",
   "execution_count": 6,
   "id": "96d4ee7a-f6eb-46c4-8d4a-519048364a42",
   "metadata": {},
   "outputs": [
    {
     "data": {
      "text/plain": [
       "200"
      ]
     },
     "execution_count": 6,
     "metadata": {},
     "output_type": "execute_result"
    }
   ],
   "source": [
    "Number=200\n",
    "Number"
   ]
  },
  {
   "cell_type": "code",
   "execution_count": 7,
   "id": "9ef56aad-44bf-4944-913e-8e681fc5a347",
   "metadata": {},
   "outputs": [
    {
     "name": "stdout",
     "output_type": "stream",
     "text": [
      "100 200\n"
     ]
    }
   ],
   "source": [
    "print(number,Number)"
   ]
  },
  {
   "cell_type": "code",
   "execution_count": 13,
   "id": "f21fb481-94ce-4ae2-8b2d-c2f201a4a0f0",
   "metadata": {},
   "outputs": [
    {
     "data": {
      "text/plain": [
       "300"
      ]
     },
     "execution_count": 13,
     "metadata": {},
     "output_type": "execute_result"
    }
   ],
   "source": [
    "number123=300\n",
    "number123\n"
   ]
  },
  {
   "cell_type": "markdown",
   "id": "debe6a24-328c-49ee-bf1d-8d40f86c7006",
   "metadata": {},
   "source": [
    "- 123number=200\n",
    "- 123number # Doesnot Work "
   ]
  },
  {
   "cell_type": "code",
   "execution_count": 14,
   "id": "c7dc5c39-82aa-4559-b754-a939941adaf3",
   "metadata": {},
   "outputs": [
    {
     "data": {
      "text/plain": [
       "300"
      ]
     },
     "execution_count": 14,
     "metadata": {},
     "output_type": "execute_result"
    }
   ],
   "source": [
    "number #working\n",
    "Number #working\n",
    "number123 #working\n",
    "#123number #not work"
   ]
  },
  {
   "cell_type": "code",
   "execution_count": 16,
   "id": "9ad297f2-0831-4def-8ab0-75b9c1b95246",
   "metadata": {},
   "outputs": [
    {
     "data": {
      "text/plain": [
       "400"
      ]
     },
     "execution_count": 16,
     "metadata": {},
     "output_type": "execute_result"
    }
   ],
   "source": [
    "NUMBERone=400\n",
    "NUMBERone"
   ]
  },
  {
   "cell_type": "markdown",
   "id": "c0cfb13e-9b64-441c-adcd-fd5d0609cef8",
   "metadata": {},
   "source": [
    "- number$123=600\n",
    "- number$123 #doesnot work"
   ]
  },
  {
   "cell_type": "code",
   "execution_count": 19,
   "id": "62d6037c-9ee8-466c-8a57-4fe5d112fba1",
   "metadata": {},
   "outputs": [
    {
     "data": {
      "text/plain": [
       "1300"
      ]
     },
     "execution_count": 19,
     "metadata": {},
     "output_type": "execute_result"
    }
   ],
   "source": [
    "number_one=1300\n",
    "number_one"
   ]
  },
  {
   "cell_type": "code",
   "execution_count": null,
   "id": "b91ad57f-1e4d-47d2-8ccb-bdfeeda59726",
   "metadata": {},
   "outputs": [],
   "source": [
    "number #working\n",
    "Number #working\n",
    "number123 #working\n",
    "#123number #not work\n",
    "number one= 2000\n",
    "number one\n",
    "number$one #not work\n",
    "number&one #not work\n",
    "number*one #not work\n",
    "number_one #work\n",
    "number one #not work\n"
   ]
  },
  {
   "cell_type": "markdown",
   "id": "b5887229-663b-47de-889d-47d8c2f262e1",
   "metadata": {},
   "source": [
    "- Variables can be a Capital letters\n",
    "- Variables can be a small letters\n",
    "- Variables can be a mix of Capital and small letters\n",
    "- Variables can be a mix of letters and numbers as **Suffix**\n",
    "- Variables cannot be a mix of letters and numbers as **prefix**\n",
    "- Variables cannot be include a special charecters except underscore\n",
    "- Variable cannot include a space between words\n",
    "- only underscore is considered as variables\n",
    "- Inbuilt cannot be a variables\n",
    "- In Python Green Color -dont use\n",
    "- Black color can be used\n",
    "- Red color dont use \n"
   ]
  },
  {
   "cell_type": "markdown",
   "id": "1fe45854-fd4c-4307-b27d-caa8076eb443",
   "metadata": {},
   "source": []
  },
  {
   "cell_type": "code",
   "execution_count": 22,
   "id": "7b17bdc6-4ce4-49cd-98d1-a16aae5c920b",
   "metadata": {},
   "outputs": [
    {
     "data": {
      "text/plain": [
       "600"
      ]
     },
     "execution_count": 22,
     "metadata": {},
     "output_type": "execute_result"
    }
   ],
   "source": [
    "_=600\n",
    "_"
   ]
  },
  {
   "cell_type": "code",
   "execution_count": null,
   "id": "a47f301e-3fc0-4209-a051-d17487ab53df",
   "metadata": {},
   "outputs": [],
   "source": []
  }
 ],
 "metadata": {
  "kernelspec": {
   "display_name": "Python 3 (ipykernel)",
   "language": "python",
   "name": "python3"
  },
  "language_info": {
   "codemirror_mode": {
    "name": "ipython",
    "version": 3
   },
   "file_extension": ".py",
   "mimetype": "text/x-python",
   "name": "python",
   "nbconvert_exporter": "python",
   "pygments_lexer": "ipython3",
   "version": "3.12.4"
  }
 },
 "nbformat": 4,
 "nbformat_minor": 5
}
