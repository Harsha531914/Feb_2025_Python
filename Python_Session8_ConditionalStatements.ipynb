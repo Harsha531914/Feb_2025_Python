{
 "cells": [
  {
   "cell_type": "markdown",
   "id": "ec0b83e5-789b-4cf2-b181-4b86174be4c9",
   "metadata": {},
   "source": [
    "- Conditional statements refers to execute the code based on some conditions\n",
    "- Here we have mainly \n",
    "- **if**\n",
    "- **if else**\n",
    "- **if elif else**"
   ]
  },
  {
   "cell_type": "markdown",
   "id": "94b4b4f5-a799-4a75-bd91-68b5c4f7762a",
   "metadata": {},
   "source": [
    "**Syntax**"
   ]
  },
  {
   "cell_type": "code",
   "execution_count": null,
   "id": "eb1e1e50-722f-408f-8d7a-4a53f2c31d25",
   "metadata": {},
   "outputs": [],
   "source": [
    "if <condition>:\n",
    "    # Write your code here by allowing formatting "
   ]
  },
  {
   "cell_type": "code",
   "execution_count": 4,
   "id": "0ca6279f-fe6f-4f1b-8a53-74bdd181701b",
   "metadata": {},
   "outputs": [
    {
     "name": "stdout",
     "output_type": "stream",
     "text": [
      "correct condition\n"
     ]
    }
   ],
   "source": [
    "num=10\n",
    "if num>0:\n",
    "    print('correct condition')"
   ]
  },
  {
   "cell_type": "code",
   "execution_count": 5,
   "id": "ba7bad36-e4a2-4d0d-b261-2e9ce56d252f",
   "metadata": {},
   "outputs": [
    {
     "name": "stdout",
     "output_type": "stream",
     "text": [
      "correct condition\n"
     ]
    }
   ],
   "source": [
    "num=10\n",
    "if num>0: print('correct condition')"
   ]
  },
  {
   "cell_type": "markdown",
   "id": "e3a9eb14-663d-4505-b7dc-d532717c7d33",
   "metadata": {},
   "source": [
    "- we can write any condition\n",
    "- the condition should be valid in order to execute the if statement"
   ]
  },
  {
   "cell_type": "code",
   "execution_count": 2,
   "id": "af064afa-1719-47d4-9244-4b823487fb7e",
   "metadata": {},
   "outputs": [
    {
     "ename": "SyntaxError",
     "evalue": "invalid syntax (3699446475.py, line 2)",
     "output_type": "error",
     "traceback": [
      "\u001b[1;36m  Cell \u001b[1;32mIn[2], line 2\u001b[1;36m\u001b[0m\n\u001b[1;33m    <Code starts here>\u001b[0m\n\u001b[1;37m    ^\u001b[0m\n\u001b[1;31mSyntaxError\u001b[0m\u001b[1;31m:\u001b[0m invalid syntax\n"
     ]
    }
   ],
   "source": [
    "if (condition):\n",
    "    <Code starts here>\n",
    "    space is called indentation"
   ]
  },
  {
   "cell_type": "code",
   "execution_count": 4,
   "id": "e41e6713-73d1-4833-8981-8b3fd0ef27d3",
   "metadata": {},
   "outputs": [
    {
     "data": {
      "text/plain": [
       "True"
      ]
     },
     "execution_count": 4,
     "metadata": {},
     "output_type": "execute_result"
    }
   ],
   "source": [
    "name='python'\n",
    "name=='python'"
   ]
  },
  {
   "cell_type": "code",
   "execution_count": 5,
   "id": "6c4cb4a0-d80d-4843-8775-6d6719677448",
   "metadata": {},
   "outputs": [
    {
     "name": "stdout",
     "output_type": "stream",
     "text": [
      "hello\n",
      "30\n"
     ]
    }
   ],
   "source": [
    "name='python'\n",
    "if name=='python':\n",
    "    print('hello')\n",
    "    a=10\n",
    "    b=20\n",
    "    print(a+b)"
   ]
  },
  {
   "cell_type": "code",
   "execution_count": 6,
   "id": "0a122836-0cfb-4dd5-81d9-977745102d9e",
   "metadata": {},
   "outputs": [
    {
     "name": "stdout",
     "output_type": "stream",
     "text": [
      "hello\n",
      "How are you?\n"
     ]
    }
   ],
   "source": [
    "if 100>10:\n",
    "#################################\n",
    "    print('hello')\n",
    "#############################\n",
    "print('How are you?')"
   ]
  },
  {
   "cell_type": "code",
   "execution_count": 7,
   "id": "2f74cab3-f400-4d1b-9b34-f0d100972d7b",
   "metadata": {},
   "outputs": [
    {
     "name": "stdout",
     "output_type": "stream",
     "text": [
      "bye\n"
     ]
    }
   ],
   "source": [
    "if 100<10:\n",
    "    print('correct')\n",
    "print('bye')\n"
   ]
  },
  {
   "cell_type": "code",
   "execution_count": 8,
   "id": "20b714e2-a8b8-447f-be3f-81c96956868d",
   "metadata": {},
   "outputs": [
    {
     "name": "stdout",
     "output_type": "stream",
     "text": [
      "hai\n",
      "hello\n",
      "bye\n"
     ]
    }
   ],
   "source": [
    "print('hai')\n",
    "if 100>10:\n",
    "    print('hello')\n",
    "print('bye')"
   ]
  },
  {
   "cell_type": "markdown",
   "id": "cd5e28d0-53d4-4b46-aff8-49f4d9c2f1f4",
   "metadata": {},
   "source": [
    "**if & else**"
   ]
  },
  {
   "cell_type": "code",
   "execution_count": null,
   "id": "8dd9ab4f-e21b-4114-9ee0-6e3b1bb34754",
   "metadata": {},
   "outputs": [],
   "source": [
    "-whenever if conditions fails ,automatically it goes to else part \n",
    "- so else doesnot require any condition\n",
    "- always maintain indentation under both if part and else part \n",
    "- if and else always comes together"
   ]
  },
  {
   "cell_type": "code",
   "execution_count": 10,
   "id": "a3f7ca51-e340-4858-b28b-f73050fdfddb",
   "metadata": {},
   "outputs": [
    {
     "name": "stdout",
     "output_type": "stream",
     "text": [
      "Correct statement\n"
     ]
    }
   ],
   "source": [
    "if 100>10:\n",
    "    print('Correct statement')\n",
    "else:\n",
    "    print('wrong statement')"
   ]
  },
  {
   "cell_type": "code",
   "execution_count": 9,
   "id": "a6640ae3-4da6-46b3-8e1d-fff122af13f5",
   "metadata": {},
   "outputs": [
    {
     "name": "stdout",
     "output_type": "stream",
     "text": [
      "10\n",
      "Correct statement\n",
      "20\n"
     ]
    }
   ],
   "source": [
    "print('10')\n",
    "if 100>10:\n",
    "    print('Correct statement')\n",
    "else:\n",
    "    print('wrong statement')\n",
    "print('20')"
   ]
  },
  {
   "cell_type": "code",
   "execution_count": 1,
   "id": "3227c469-4ab6-4f7e-b423-5b97b068d646",
   "metadata": {},
   "outputs": [
    {
     "name": "stdout",
     "output_type": "stream",
     "text": [
      "10\n",
      "Correct statement\n",
      "20\n"
     ]
    }
   ],
   "source": [
    "print('10')\n",
    "if 100>10:\n",
    "    print('Correct statement')\n",
    "#print('dont come in middle')\n",
    "else:\n",
    "    print('wrong statement')\n",
    "\n",
    "print('20')"
   ]
  },
  {
   "cell_type": "markdown",
   "id": "5fc2a06d-c554-4876-becf-a179d7c08cab",
   "metadata": {},
   "source": [
    "**if and else always together**"
   ]
  },
  {
   "cell_type": "code",
   "execution_count": 13,
   "id": "825a45f9-cce7-4258-a725-b2e955311b6a",
   "metadata": {},
   "outputs": [
    {
     "name": "stdin",
     "output_type": "stream",
     "text": [
      "enter number 1 20\n",
      "enter number 2 20\n"
     ]
    },
    {
     "name": "stdout",
     "output_type": "stream",
     "text": [
      "we won\n"
     ]
    }
   ],
   "source": [
    "# wap to ask user to enter 2 numbers\n",
    "# if 2 numbers matches, print we won\n",
    "# if doesnt match print we lost\n",
    "\n",
    "n1=eval(input('enter number 1'))\n",
    "n2=eval(input('enter number 2'))\n",
    "if (n1==n2):\n",
    "    print('we won')\n",
    "else:\n",
    "    print('we lost')"
   ]
  },
  {
   "cell_type": "markdown",
   "id": "e56c1cea-6219-42d7-95b1-dd0c15ab3cb1",
   "metadata": {},
   "source": [
    "**If Green colour Keyword comes,then colon will come ,next indentation will come**"
   ]
  },
  {
   "cell_type": "code",
   "execution_count": 14,
   "id": "f5c7366c-4dad-42ae-96ef-d9406b734825",
   "metadata": {},
   "outputs": [
    {
     "name": "stdin",
     "output_type": "stream",
     "text": [
      "enter number 1 10\n"
     ]
    },
    {
     "name": "stdout",
     "output_type": "stream",
     "text": [
      "we lost\n"
     ]
    }
   ],
   "source": [
    "from random import randint\n",
    "n1=eval(input('enter number 1'))\n",
    "n2=randint(1,10)\n",
    "if (n1==n2):\n",
    "    print('we won')\n",
    "else:\n",
    "    print('we lost')"
   ]
  },
  {
   "cell_type": "code",
   "execution_count": 19,
   "id": "9df03877-b02e-437a-90bf-4d3d82a3f46b",
   "metadata": {},
   "outputs": [
    {
     "name": "stdin",
     "output_type": "stream",
     "text": [
      "enter a number 4\n"
     ]
    },
    {
     "name": "stdout",
     "output_type": "stream",
     "text": [
      "even\n"
     ]
    }
   ],
   "source": [
    "num1 =eval(input('enter a number'))\n",
    "if num1%2==0:\n",
    "    print('even')\n",
    "else:\n",
    "    print('odd')"
   ]
  },
  {
   "cell_type": "code",
   "execution_count": 16,
   "id": "4df7faa5-9a24-4710-b792-ba220243a633",
   "metadata": {},
   "outputs": [
    {
     "data": {
      "text/plain": [
       "2.5"
      ]
     },
     "execution_count": 16,
     "metadata": {},
     "output_type": "execute_result"
    }
   ],
   "source": [
    "5/2 # division"
   ]
  },
  {
   "cell_type": "code",
   "execution_count": 17,
   "id": "f00933f2-5710-4c1a-9aa3-67e284c7025c",
   "metadata": {},
   "outputs": [
    {
     "data": {
      "text/plain": [
       "2"
      ]
     },
     "execution_count": 17,
     "metadata": {},
     "output_type": "execute_result"
    }
   ],
   "source": [
    "5//2 # floor division(quotient)"
   ]
  },
  {
   "cell_type": "code",
   "execution_count": 18,
   "id": "fd0bb08e-91d1-45aa-b626-fdadb1114bac",
   "metadata": {},
   "outputs": [
    {
     "data": {
      "text/plain": [
       "1"
      ]
     },
     "execution_count": 18,
     "metadata": {},
     "output_type": "execute_result"
    }
   ],
   "source": [
    "5%2 # modulus operator(remainder)"
   ]
  },
  {
   "cell_type": "code",
   "execution_count": 21,
   "id": "57b1b0d9-b8dd-49e3-8e19-60d8092c34ec",
   "metadata": {},
   "outputs": [
    {
     "name": "stdin",
     "output_type": "stream",
     "text": [
      "enter a number 25\n"
     ]
    },
    {
     "name": "stdout",
     "output_type": "stream",
     "text": [
      "12\n"
     ]
    }
   ],
   "source": [
    "num1 =eval(input('enter a number'))\n",
    "print(num1//2)\n"
   ]
  },
  {
   "cell_type": "code",
   "execution_count": 24,
   "id": "3408dabf-742a-433c-8773-e26f2d4b1041",
   "metadata": {},
   "outputs": [
    {
     "name": "stdin",
     "output_type": "stream",
     "text": [
      "enter a number 100\n",
      "what is the charge per km 10\n"
     ]
    },
    {
     "name": "stdout",
     "output_type": "stream",
     "text": [
      "Total charge is 750\n"
     ]
    }
   ],
   "source": [
    "# wap to ask distance\n",
    "# if distance >25 ,ask the charge\n",
    "# calculate the charge other than 25 km\n",
    "# else print free ride\n",
    "distance= eval(input('enter a number'))\n",
    "if (distance>25):\n",
    "    charge=eval(input('what is the charge per km'))\n",
    "    distance_cost=  (distance-25)*charge\n",
    "    print(f'Total charge is {distance_cost}')\n",
    "else: print('free ride')"
   ]
  },
  {
   "cell_type": "code",
   "execution_count": 28,
   "id": "d5e2d750-6236-4c5e-a978-07fb650ebc43",
   "metadata": {},
   "outputs": [
    {
     "name": "stdin",
     "output_type": "stream",
     "text": [
      "enter the distance 100\n",
      "govt cutoff distance 50\n"
     ]
    },
    {
     "name": "stdout",
     "output_type": "stream",
     "text": [
      "the charge applicable of 50 kms\n"
     ]
    },
    {
     "name": "stdin",
     "output_type": "stream",
     "text": [
      "what is the charge per km 209\n"
     ]
    },
    {
     "name": "stdout",
     "output_type": "stream",
     "text": [
      "Total charge is 10450\n"
     ]
    }
   ],
   "source": [
    "distance= eval(input('enter the distance'))\n",
    "cutoff_distance= eval(input('govt cutoff distance'))\n",
    "if (distance>cutoff_distance):\n",
    "    print(f'the charge applicable of {distance-cutoff_distance} kms') \n",
    "    charge=eval(input('what is the charge per km'))\n",
    "    distance_cost=  (distance-cutoff_distance)*charge\n",
    "    print(f'Total charge is {distance_cost}')\n",
    "else:\n",
    "    print('free ride')"
   ]
  },
  {
   "cell_type": "code",
   "execution_count": 31,
   "id": "9f8f25f9-8741-4dd5-bf99-cf60269891a4",
   "metadata": {},
   "outputs": [
    {
     "name": "stdout",
     "output_type": "stream",
     "text": [
      "5 is greater\n"
     ]
    }
   ],
   "source": [
    "from random import randint\n",
    "n1= randint(1,100)\n",
    "b2= randint(1,100)\n",
    "if n1>n2:\n",
    "    print(f'{n1} is greater')\n",
    "else:\n",
    "    pirnt(f'{n2}' is greater)\n",
    "    "
   ]
  },
  {
   "cell_type": "code",
   "execution_count": 34,
   "id": "10d1aea7-8625-4e58-ae12-9b4c0ea4d8e7",
   "metadata": {},
   "outputs": [
    {
     "name": "stdin",
     "output_type": "stream",
     "text": [
      "enter course name Datascience and AI\n",
      "enter institute name Naresh i Technologies\n"
     ]
    },
    {
     "name": "stdout",
     "output_type": "stream",
     "text": [
      "we are good\n"
     ]
    }
   ],
   "source": [
    "course_name=input('enter course name')\n",
    "institute_name=input('enter institute name')\n",
    "if course_name=='Datascience and AI' and institute_name=='Naresh i Technologies':\n",
    "    print('we are good')\n",
    "else:\n",
    "    print('not good')\n",
    " \n"
   ]
  },
  {
   "cell_type": "markdown",
   "id": "c7276f61-1ca3-4b09-974f-cd6f878f5c58",
   "metadata": {},
   "source": [
    "**if-elif-else**\n",
    "- When we have 2 solutions based on one condition ,then we can go for if else statement\n",
    "- Suppose if we have 3 solutions based on 2 conditions \n",
    "- then we go for if-elif-else\n",
    "- If needs condition\n",
    "- elif needs condition\n",
    "- if and elif ,both are wrong then we will get else output"
   ]
  },
  {
   "cell_type": "code",
   "execution_count": 6,
   "id": "b8be0fd5-b9df-4edc-854d-9e4fc5a176fb",
   "metadata": {},
   "outputs": [
    {
     "name": "stdin",
     "output_type": "stream",
     "text": [
      "enter a number 4\n"
     ]
    },
    {
     "name": "stdout",
     "output_type": "stream",
     "text": [
      "please enter the valid number\n"
     ]
    }
   ],
   "source": [
    "num1= eval(input('enter a number'))\n",
    "if (num1==1):\n",
    "    print('one')\n",
    "elif (num1==2):\n",
    "    print('two')\n",
    "elif (num1=='3'):\n",
    "    print('three')\n",
    "else:\n",
    "    print('please enter the valid number')"
   ]
  },
  {
   "cell_type": "code",
   "execution_count": 16,
   "id": "ba988d10-da49-45fd-b941-a2e9886128c0",
   "metadata": {},
   "outputs": [
    {
     "name": "stdin",
     "output_type": "stream",
     "text": [
      "enter percentage of marks 75\n"
     ]
    },
    {
     "name": "stdout",
     "output_type": "stream",
     "text": [
      "A Grade\n"
     ]
    }
   ],
   "source": [
    "percentage= eval(input('enter percentage of marks'))\n",
    "if( percentage>=75):\n",
    "    print('A Grade')\n",
    "elif(percentage>=60 and percentage<75):\n",
    "    print('B Grade')\n",
    "elif(percentage>=45 and percentage<60):\n",
    "    print('C Grade')\n",
    "elif(percentage>=35 and percentage<45):\n",
    "    print('D Grade')\n",
    "else:\n",
    "    print('Fail')"
   ]
  },
  {
   "cell_type": "markdown",
   "id": "3b4251f9-54cd-4698-ad16-32104c8222f6",
   "metadata": {},
   "source": [
    "**elif gives what is the first true ,then prints first true only**"
   ]
  },
  {
   "cell_type": "code",
   "execution_count": 20,
   "id": "15044660-a709-479a-80e4-37a9e8d92807",
   "metadata": {},
   "outputs": [
    {
     "name": "stdin",
     "output_type": "stream",
     "text": [
      "enter percentage of marks 28\n"
     ]
    },
    {
     "name": "stdout",
     "output_type": "stream",
     "text": [
      "Fail\n"
     ]
    }
   ],
   "source": [
    "percentage= eval(input('enter percentage of marks'))\n",
    "if( percentage>=75):\n",
    "    print('A Grade')\n",
    "elif(percentage>=60):\n",
    "    print('B Grade')\n",
    "elif(percentage>=45):\n",
    "    print('C Grade')\n",
    "elif(percentage>=35):\n",
    "    print('D Grade')\n",
    "else:\n",
    "    print('Fail')\n"
   ]
  },
  {
   "cell_type": "code",
   "execution_count": 27,
   "id": "40545b3d-a8c5-48a8-8f54-2615d4900088",
   "metadata": {},
   "outputs": [
    {
     "name": "stdin",
     "output_type": "stream",
     "text": [
      "enter the age 110\n"
     ]
    },
    {
     "name": "stdout",
     "output_type": "stream",
     "text": [
      "Unlucky Guy\n"
     ]
    }
   ],
   "source": [
    "age = eval(input('enter the age'))\n",
    "if( age>=100):\n",
    "    print('Unlucky Guy')\n",
    "elif(age>=80):\n",
    "    print('Super Senior Citizen')\n",
    "elif(age>=60):\n",
    "    print('Senior Citizen')\n",
    "elif(age>=40):\n",
    "    print('Aged')\n",
    "elif(age>=25):\n",
    "    print('Middle Aged Guy')\n",
    "elif(age>=15):\n",
    "    print('Young')\n",
    "else:\n",
    "    print('kid')\n"
   ]
  },
  {
   "cell_type": "code",
   "execution_count": 33,
   "id": "f07a964b-7c99-4ebd-a624-ec8a0fc2a2f5",
   "metadata": {},
   "outputs": [
    {
     "name": "stdin",
     "output_type": "stream",
     "text": [
      "enter the distance 67\n"
     ]
    },
    {
     "name": "stdout",
     "output_type": "stream",
     "text": [
      "The Charge is 20 rs for more than 100 KM\n",
      "The Charge is 10 rs for more than 50 KM\n",
      "The Charge is 5 rs for more than 25 KM\n",
      "Free Ride below 25 kms\n"
     ]
    },
    {
     "name": "stdin",
     "output_type": "stream",
     "text": [
      "enter the charge 10\n"
     ]
    },
    {
     "name": "stdout",
     "output_type": "stream",
     "text": [
      "10\n",
      " the total charge is 670\n"
     ]
    }
   ],
   "source": [
    "distance = eval(input('enter the distance'))\n",
    "print('The Charge is 20 rs for more than 100 KM')\n",
    "print('The Charge is 10 rs for more than 50 KM')\n",
    "print('The Charge is 5 rs for more than 25 KM')\n",
    "print('Free Ride below 25 kms')\n",
    "if(distance>=100):\n",
    "    print(eval(input('enter the charge')))\n",
    "    print(f' the total charge is {distance*20}')\n",
    "elif(distance>=50):\n",
    "     print(eval(input('enter the charge')))\n",
    "     print(f' the total charge is {distance*10}')\n",
    "elif(distance>=25):\n",
    "     print(eval(input('enter the charge')))\n",
    "     print(f' the total charge is {distance*5}')\n",
    "else: \n",
    "    print('Free Ride')\n"
   ]
  },
  {
   "cell_type": "code",
   "execution_count": 48,
   "id": "0e2cf49d-62f8-438c-b0f7-52bcf2970654",
   "metadata": {},
   "outputs": [
    {
     "name": "stdout",
     "output_type": "stream",
     "text": [
      "Enter 1 for addition\n",
      "Enter 2 for subtraction\n",
      "Enter 3 for multiplication\n",
      "Enter 4 for division\n"
     ]
    },
    {
     "name": "stdin",
     "output_type": "stream",
     "text": [
      "enter first number  100\n",
      "enter second number  25\n",
      "Enter the number between 1 to 4 4\n"
     ]
    },
    {
     "name": "stdout",
     "output_type": "stream",
     "text": [
      "you choose Division operation\n",
      "addition result is 4.0\n"
     ]
    }
   ],
   "source": [
    "    import time\n",
    "    print(f'Enter 1 for addition')\n",
    "    time.sleep(2)\n",
    "    print(f'Enter 2 for subtraction')\n",
    "    time.sleep(2)\n",
    "    print(f'Enter 3 for multiplication')\n",
    "    time.sleep(2)\n",
    "    print(f'Enter 4 for division')\n",
    "    time.sleep(2)\n",
    "    num1=eval(input('enter first number '))\n",
    "    num2=eval(input('enter second number '))\n",
    "    operation=eval(input('Enter the number between 1 to 4'))\n",
    "    if(operation==1):\n",
    "        print('you choose addition operation')\n",
    "        add=num1+num2\n",
    "        print(f'addition result is {add}')\n",
    "    elif(operation==2):\n",
    "        print('you choose Subtraction operation')\n",
    "        sub=num1-num2\n",
    "        print(f'addition result is {sub}')\n",
    "    elif(operation==3):\n",
    "        print('you choose Multiplication operation')\n",
    "        mul=num1*num2\n",
    "        print(f'addition result is {mul}')\n",
    "    elif(operation==4):\n",
    "        print('you choose Division operation')\n",
    "        div=num1/num2\n",
    "        print(f'addition result is {num1/num2}')\n",
    "    else:\n",
    "        print('You choose wrong operation ,please choose operation between 1 and 4')"
   ]
  },
  {
   "cell_type": "markdown",
   "id": "6028911a-1bfc-4433-8c6e-c1faf4495f85",
   "metadata": {},
   "source": [
    "**Nested if else**"
   ]
  },
  {
   "cell_type": "code",
   "execution_count": 3,
   "id": "63938638-81b5-4add-a035-01774eabf7af",
   "metadata": {},
   "outputs": [
    {
     "name": "stdin",
     "output_type": "stream",
     "text": [
      "Enter a Number 0\n"
     ]
    },
    {
     "name": "stdout",
     "output_type": "stream",
     "text": [
      "the given number is zero\n"
     ]
    }
   ],
   "source": [
    "# if elif else case\n",
    "num1= eval(input('Enter a Number'))\n",
    "if (num1>0):\n",
    "    print(f'the given number is positive')\n",
    "elif (num1<0):\n",
    "    print(f'the given number is negative')\n",
    "else:\n",
    "    print(f'the given number is zero')\n",
    "    "
   ]
  },
  {
   "cell_type": "code",
   "execution_count": 7,
   "id": "967fab82-2978-4922-880b-6ca693854d18",
   "metadata": {},
   "outputs": [
    {
     "name": "stdin",
     "output_type": "stream",
     "text": [
      "Enter a Number -20\n"
     ]
    },
    {
     "name": "stdout",
     "output_type": "stream",
     "text": [
      "The number is negative\n"
     ]
    }
   ],
   "source": [
    "num= eval(input('Enter a Number'))\n",
    "if (num>0):\n",
    "    if(num==0):\n",
    "        print(f'The number is equal to zero')\n",
    "    else:\n",
    "        print(f'the number is positive')\n",
    "else:\n",
    "    print('The number is negative')"
   ]
  },
  {
   "cell_type": "code",
   "execution_count": 14,
   "id": "b19e8585-3301-4ff4-bbb5-c8480c7e7a51",
   "metadata": {},
   "outputs": [
    {
     "name": "stdin",
     "output_type": "stream",
     "text": [
      "Enter the Gender female\n",
      "Enter the age: 28\n"
     ]
    },
    {
     "name": "stdout",
     "output_type": "stream",
     "text": [
      "the person is a Young woman\n"
     ]
    }
   ],
   "source": [
    "Gender= input('Enter the Gender')\n",
    "if (Gender=='male'):\n",
    "    age=eval(input('Enter the age:'))\n",
    "    if (age>=60):\n",
    "         print(f'The person is Senior Citizen')\n",
    "    elif(age>=30):\n",
    "        print(f'the person is Middle Aged Man')\n",
    "    elif(age>=10):\n",
    "        print(f'the person is a Young Man')\n",
    "    else:\n",
    "        print(f'the person is a boy')\n",
    "elif(Gender=='female'):\n",
    "    age=eval(input('Enter the age:'))\n",
    "    if (age>=60):\n",
    "        print(f'The person is Senior Citizen')\n",
    "    elif(age>=30):\n",
    "        print(f'the person is Middle Aged Woman')\n",
    "    elif(age>=10):\n",
    "        print(f'the person is a Young woman')\n",
    "    else:\n",
    "        print(f'the person is a girl')\n",
    "else:\n",
    "        print(f'Enter a valid gender')"
   ]
  },
  {
   "cell_type": "code",
   "execution_count": 16,
   "id": "0894fc11-0480-42a1-9de9-cdff4753e81f",
   "metadata": {},
   "outputs": [
    {
     "name": "stdin",
     "output_type": "stream",
     "text": [
      "Enter the Gender male\n",
      "Enter the age: 20\n"
     ]
    },
    {
     "name": "stdout",
     "output_type": "stream",
     "text": [
      "the person is a Young Man\n"
     ]
    }
   ],
   "source": [
    "Gender= input('Enter the Gender')\n",
    "if(Gender=='male'):\n",
    "    age=eval(input('Enter the age:'))\n",
    "    if (age>=60):print(f'The person is Senior Citizen')\n",
    "    elif(age>=30):print(f'the person is Middle Aged Man')\n",
    "    elif(age>=10):print(f'the person is a Young Man')\n",
    "    else:print(f'the person is a boy')\n",
    "elif(Gender=='female'):\n",
    "    age=eval(input('Enter the age:'))\n",
    "    if (age>=60):print(f'The person is Senior Citizen')\n",
    "    elif(age>=30):print(f'the person is Middle Aged Woman')\n",
    "    elif(age>=10):print(f'the person is a Young woman')\n",
    "    else:print(f'the person is a girl')\n",
    "else:print(f'Enter a valid gender')"
   ]
  },
  {
   "cell_type": "code",
   "execution_count": 18,
   "id": "9d293ab1-3893-4db9-9e54-77ce0337d938",
   "metadata": {},
   "outputs": [
    {
     "name": "stdin",
     "output_type": "stream",
     "text": [
      "enter number 1 100\n",
      "enter number 2 250\n",
      "enter number 3 500\n"
     ]
    },
    {
     "name": "stdout",
     "output_type": "stream",
     "text": [
      "500 is biggest\n"
     ]
    }
   ],
   "source": [
    "num1=eval(input('enter number 1'))\n",
    "num2=eval(input('enter number 2'))\n",
    "num3=eval(input('enter number 3'))\n",
    "if (num1>num2 and num1>num3):\n",
    "    print(f'{num1} is biggest')\n",
    "elif(num2>num1 and num2>num3):\n",
    "    print(f'{num2} is biggest')\n",
    "elif(num3>num1 and num3>num2):\n",
    "    print(f'{num3} is biggest')\n",
    "else:\n",
    "    print('All are equal')"
   ]
  },
  {
   "cell_type": "code",
   "execution_count": 19,
   "id": "9fc19b9b-05c9-48e5-b779-09540a9171b7",
   "metadata": {},
   "outputs": [
    {
     "name": "stdin",
     "output_type": "stream",
     "text": [
      "enter number 1 100\n",
      "enter number 2 250\n",
      "enter number 3 500\n"
     ]
    },
    {
     "name": "stdout",
     "output_type": "stream",
     "text": [
      "500 is greater\n"
     ]
    }
   ],
   "source": [
    "num1=eval(input('enter number 1'))\n",
    "num2=eval(input('enter number 2'))\n",
    "num3=eval(input('enter number 3'))\n",
    "if(num1>num2 and num1>num3):\n",
    "    print(f'{num1} is greater')\n",
    "elif(num2>num3):\n",
    "    print(f'{num2} is greater')\n",
    "else:\n",
    "    print(f'{num3} is greater')\n",
    "    "
   ]
  },
  {
   "cell_type": "code",
   "execution_count": 8,
   "id": "5ae2f1dd-6116-4318-ad9f-a4054166d18d",
   "metadata": {},
   "outputs": [
    {
     "name": "stdin",
     "output_type": "stream",
     "text": [
      "enter number 1 25\n",
      "enter number 2 250\n",
      "enter number 3 500\n"
     ]
    },
    {
     "name": "stdout",
     "output_type": "stream",
     "text": [
      "500 is greater\n"
     ]
    }
   ],
   "source": [
    "num1=eval(input('enter number 1'))\n",
    "num2=eval(input('enter number 2'))\n",
    "num3=eval(input('enter number 3'))\n",
    "if(num1>num2):\n",
    "    if(num1>num3):\n",
    "        print(f'{num1} is greater')\n",
    "    else:\n",
    "        print(f'{num3} is greater')\n",
    "elif(num2>num3):\n",
    "    print(f'{num2 is greater}')\n",
    "else: \n",
    "    print(f'{num3} is greater')"
   ]
  },
  {
   "cell_type": "code",
   "execution_count": null,
   "id": "e6c035c6-146c-4312-8394-f06bd234cf19",
   "metadata": {},
   "outputs": [],
   "source": []
  }
 ],
 "metadata": {
  "kernelspec": {
   "display_name": "Python 3 (ipykernel)",
   "language": "python",
   "name": "python3"
  },
  "language_info": {
   "codemirror_mode": {
    "name": "ipython",
    "version": 3
   },
   "file_extension": ".py",
   "mimetype": "text/x-python",
   "name": "python",
   "nbconvert_exporter": "python",
   "pygments_lexer": "ipython3",
   "version": "3.12.4"
  }
 },
 "nbformat": 4,
 "nbformat_minor": 5
}
