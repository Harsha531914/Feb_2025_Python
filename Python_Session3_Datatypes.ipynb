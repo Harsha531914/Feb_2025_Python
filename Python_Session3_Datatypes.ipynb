{
 "cells": [
  {
   "cell_type": "markdown",
   "id": "ca104a59-2f8b-42f5-b931-7550af944ace",
   "metadata": {},
   "source": [
    "# Data Types"
   ]
  },
  {
   "cell_type": "markdown",
   "id": "a0984493-a127-45e6-a1cc-072b99304bf2",
   "metadata": {},
   "source": [
    "- python can say datatypes without initializing\n",
    "- which means data type automatically consider\n",
    "- Python has some inbuilt data types\n",
    "- int : Integer \n",
    "- float\n",
    "- str :(String)\n",
    "- Bool : Boolean\n",
    "- list\n",
    "- tuple\n",
    "- Dict : Dictionary\n",
    "- set \n",
    "- frozenset\n",
    "- bytes\n",
    "- bytearray\n",
    "- memoryview\n"
   ]
  },
  {
   "cell_type": "markdown",
   "id": "b9916a97-89a2-4e4e-b40e-0b3a748c1bed",
   "metadata": {},
   "source": [
    "# Integer: "
   ]
  },
  {
   "cell_type": "code",
   "execution_count": 1,
   "id": "b4bb1dca-1129-4685-9758-0cef0662bff2",
   "metadata": {},
   "outputs": [
    {
     "data": {
      "text/plain": [
       "int"
      ]
     },
     "execution_count": 1,
     "metadata": {},
     "output_type": "execute_result"
    }
   ],
   "source": [
    "num=100 \n",
    "type(num)"
   ]
  },
  {
   "cell_type": "code",
   "execution_count": 2,
   "id": "cc4af837-e041-4d25-ba7f-f9ad23c21542",
   "metadata": {},
   "outputs": [
    {
     "name": "stdout",
     "output_type": "stream",
     "text": [
      "100\n"
     ]
    }
   ],
   "source": [
    "print(num)"
   ]
  },
  {
   "cell_type": "markdown",
   "id": "3e30362f-3100-4b20-9cd2-385a7d4ada96",
   "metadata": {},
   "source": [
    "- Python function always works with paranthesis only.Dont give square brackets "
   ]
  },
  {
   "cell_type": "markdown",
   "id": "a4af21c5-170b-4b9b-a70b-930365dc2b65",
   "metadata": {},
   "source": [
    "# Binary Number System \n",
    "- numbers 0,1,2,3,4,5,6,7,8,9\n",
    "- binary  bi means 2 i.e  0 & 1\n",
    "- representation is 0b111,00b11,0b101,B0001\n",
    "- wrong representation is o(alphabet),0b102"
   ]
  },
  {
   "cell_type": "code",
   "execution_count": 4,
   "id": "51b05bac-c2ec-4e61-9a3a-4ca61c98bbcf",
   "metadata": {},
   "outputs": [
    {
     "data": {
      "text/plain": [
       "6"
      ]
     },
     "execution_count": 4,
     "metadata": {},
     "output_type": "execute_result"
    }
   ],
   "source": [
    "0B110"
   ]
  },
  {
   "cell_type": "markdown",
   "id": "ea7a62fe-e03b-4087-9b1c-8256f7cd81d5",
   "metadata": {},
   "source": [
    "- 2^3 2^2  2^1  2^0  RES\n",
    "- 0    0    0    0   1\n",
    "- 0    0    0    1   2\n",
    "- 0    0    1    0   3\n",
    "- 0    0    1    1   4\n",
    "- 0    1    0    0   5 \n",
    "- 0    1    0    1   6\n",
    "- 0    1    1    0   7\n",
    "- 0    1    1    1   8\n",
    "- 1    0    0    0   9\n",
    "- 1    0    0    1   10\n",
    "- 1    0    1    0   11\n",
    "- 1    0    1    1   12\n",
    "- 1    1    0    0   13 \n",
    "- 1    1    0    1   14\n",
    "- 1    1    1    0   15\n",
    "- 1    1    1    1   16\n"
   ]
  },
  {
   "cell_type": "markdown",
   "id": "bdd69bbf-97c7-45f0-8a15-ea260b38782c",
   "metadata": {},
   "source": [
    "# Octal Number System \n",
    "- numbers 0,1,2,3,4,5,6,7,8,9\n",
    "- Octal  means 8 i.e  0,1,2,3,4,5,6,7\n",
    "- representation is  0o567,0o123\n",
    "- wrong representation is o(alphabet),0b102"
   ]
  },
  {
   "cell_type": "markdown",
   "id": "c66818af-e670-4218-96c1-a998f358e137",
   "metadata": {},
   "source": [
    "# Hexa decimal Number System \n",
    "- numbers 0,1,2,3,4,5,6,7,8,9\n",
    "- Octal  means 16 i.e  0,1,2,3,4,5,6,7,8,9,A=10,B=11,C=12,D=13,E=14,F=15\n",
    "- representation is  0x567,0X123,0Xabc\n",
    "- wrong representation is o(alphabet),0H102"
   ]
  },
  {
   "cell_type": "code",
   "execution_count": 7,
   "id": "b8d48f84-9098-45b5-81df-43ba860a53bd",
   "metadata": {},
   "outputs": [
    {
     "data": {
      "text/plain": [
       "2748"
      ]
     },
     "execution_count": 7,
     "metadata": {},
     "output_type": "execute_result"
    }
   ],
   "source": [
    "0xabc"
   ]
  },
  {
   "cell_type": "markdown",
   "id": "58b910de-bd58-46c8-9f5c-29f347f99593",
   "metadata": {},
   "source": [
    "# Float"
   ]
  },
  {
   "cell_type": "markdown",
   "id": "19c5150b-7795-4fd3-b862-6ed6ba500ce1",
   "metadata": {},
   "source": [
    "- Float number means Continuous points\n",
    "- Float number means having some decimals\n",
    "- Integer means discrete points "
   ]
  },
  {
   "cell_type": "code",
   "execution_count": 1,
   "id": "71841784-7770-41c5-b663-6c4f69639636",
   "metadata": {},
   "outputs": [
    {
     "data": {
      "text/plain": [
       "float"
      ]
     },
     "execution_count": 1,
     "metadata": {},
     "output_type": "execute_result"
    }
   ],
   "source": [
    "num=100.25\n",
    "type(num)"
   ]
  },
  {
   "cell_type": "markdown",
   "id": "68974513-77e9-4af1-b173-1013bbcd313f",
   "metadata": {},
   "source": [
    "- float points can represent as exponential format means e"
   ]
  },
  {
   "cell_type": "code",
   "execution_count": 4,
   "id": "6a3fe20e-c5c9-49d6-85d4-331fc0cc4b59",
   "metadata": {},
   "outputs": [
    {
     "data": {
      "text/plain": [
       "1000.0"
      ]
     },
     "execution_count": 4,
     "metadata": {},
     "output_type": "execute_result"
    }
   ],
   "source": [
    "1e1 # 1*10\n",
    "1e2 # 1*100\n",
    "1e3 # 1*1000"
   ]
  },
  {
   "cell_type": "code",
   "execution_count": 8,
   "id": "fc6a3aa9-8f14-41b2-8312-84b92a57da23",
   "metadata": {},
   "outputs": [
    {
     "data": {
      "text/plain": [
       "200.0"
      ]
     },
     "execution_count": 8,
     "metadata": {},
     "output_type": "execute_result"
    }
   ],
   "source": [
    "2e2 # 2*100"
   ]
  },
  {
   "cell_type": "code",
   "execution_count": 6,
   "id": "9bb1b045-31cb-440a-89d3-b70f95513671",
   "metadata": {},
   "outputs": [
    {
     "data": {
      "text/plain": [
       "(10.0, 100.0, 1000.0)"
      ]
     },
     "execution_count": 6,
     "metadata": {},
     "output_type": "execute_result"
    }
   ],
   "source": [
    "1e+1 ,1e+2,1e+3"
   ]
  },
  {
   "cell_type": "code",
   "execution_count": 7,
   "id": "706279df-c3f8-4074-a892-96b4bef7fdc3",
   "metadata": {},
   "outputs": [
    {
     "name": "stdout",
     "output_type": "stream",
     "text": [
      "0.1\n",
      "0.01\n",
      "0.001\n"
     ]
    }
   ],
   "source": [
    "print(1e-1) #1/10\n",
    "print(1e-2) #1/100\n",
    "print(1e-3) #1/1000"
   ]
  },
  {
   "cell_type": "markdown",
   "id": "05bc2a64-4959-4af6-be18-784a3c6b32ca",
   "metadata": {},
   "source": [
    "# Strings"
   ]
  },
  {
   "cell_type": "markdown",
   "id": "76016092-95ec-4113-8b2b-dc714d108cff",
   "metadata": {},
   "source": [
    "- Strings means English Charecters\n"
   ]
  },
  {
   "cell_type": "code",
   "execution_count": 9,
   "id": "2a33b0bd-c121-43f6-aa07-313073cd2206",
   "metadata": {},
   "outputs": [
    {
     "data": {
      "text/plain": [
       "str"
      ]
     },
     "execution_count": 9,
     "metadata": {},
     "output_type": "execute_result"
    }
   ],
   "source": [
    "name= \"Harsha\"\n",
    "type(name)"
   ]
  },
  {
   "cell_type": "code",
   "execution_count": 11,
   "id": "03127839-f8d5-4e53-876e-462ae1738ec3",
   "metadata": {},
   "outputs": [
    {
     "data": {
      "text/plain": [
       "str"
      ]
     },
     "execution_count": 11,
     "metadata": {},
     "output_type": "execute_result"
    }
   ],
   "source": [
    "number='10'\n",
    "type(number)"
   ]
  },
  {
   "cell_type": "code",
   "execution_count": 1,
   "id": "fd643a4c-8798-4e6b-9758-1c49bbd2cd1d",
   "metadata": {},
   "outputs": [
    {
     "name": "stdout",
     "output_type": "stream",
     "text": [
      " I like learning 'Python' \n"
     ]
    }
   ],
   "source": [
    "sen1=\" I like learning 'Python' \"\n",
    "print(sen1)\n"
   ]
  },
  {
   "cell_type": "code",
   "execution_count": 3,
   "id": "340a0cda-2f39-43e8-b0aa-f0a2746e06a2",
   "metadata": {},
   "outputs": [
    {
     "name": "stdout",
     "output_type": "stream",
     "text": [
      " I like learning \"Data Science and AI\" \n"
     ]
    }
   ],
   "source": [
    "sen2= ' I like learning \"Data Science and AI\" '\n",
    "print(sen2)\n"
   ]
  },
  {
   "cell_type": "markdown",
   "id": "7d6ef4a7-536c-4021-995e-e15c870ba9d4",
   "metadata": {},
   "source": [
    "- Entire sentence in single quotes highlight word in double quotes and vice versa\n"
   ]
  },
  {
   "cell_type": "markdown",
   "id": "0910ada4-820e-4e68-b66d-209937636e6b",
   "metadata": {},
   "source": [
    "- Entire sentence in double quotes use single quotes to highlight the word and vice cersa"
   ]
  },
  {
   "cell_type": "markdown",
   "id": "ace56670-f433-4b32-a2be-87c99e94c016",
   "metadata": {},
   "source": [
    "name1=**Hello Good Morning\n",
    "How are you? ** \n",
    "name1"
   ]
  },
  {
   "cell_type": "markdown",
   "id": "7c263d82-5de0-4369-8976-d4402e422ad5",
   "metadata": {},
   "source": [
    "# DocString "
   ]
  },
  {
   "cell_type": "markdown",
   "id": "cd6fc9ef-0a6c-475b-be8e-bb4591a176ee",
   "metadata": {},
   "source": [
    "- If we want to convey information to the user \n",
    "- we will write a statements before coding part \n",
    "- It is called as Doc String .\n",
    "- In JUPYTER we have markdown to convey the information ** ** \n",
    "- In VSCODE we convey the information using \"\"\" \"\"\" .\n",
    "- If we see anywhere \"\"\" \"\"\" (Triple Quotes) means the user trying to convey the information .\n"
   ]
  },
  {
   "cell_type": "markdown",
   "id": "3b285a2e-0f69-4e0b-af88-417228e6a1f0",
   "metadata": {},
   "source": [
    "# Boolean "
   ]
  },
  {
   "cell_type": "code",
   "execution_count": 21,
   "id": "f4c123dc-695a-4195-b7a7-2c9edcfe9cf8",
   "metadata": {},
   "outputs": [
    {
     "data": {
      "text/plain": [
       "bool"
      ]
     },
     "execution_count": 21,
     "metadata": {},
     "output_type": "execute_result"
    }
   ],
   "source": [
    "Value= True\n",
    "type(Value)"
   ]
  },
  {
   "cell_type": "code",
   "execution_count": 22,
   "id": "56b83783-17d1-4f3d-9a21-29eb61ccffc6",
   "metadata": {},
   "outputs": [
    {
     "data": {
      "text/plain": [
       "bool"
      ]
     },
     "execution_count": 22,
     "metadata": {},
     "output_type": "execute_result"
    }
   ],
   "source": [
    "Value1= False\n",
    "type(Value1)"
   ]
  },
  {
   "cell_type": "markdown",
   "id": "bc88a048-242e-44af-9a89-86d6065856c3",
   "metadata": {},
   "source": [
    "- Red Color = String\n",
    "- Green Color = Boolean\n",
    "- Black Color = Variable"
   ]
  },
  {
   "cell_type": "code",
   "execution_count": null,
   "id": "5d1eebb6-7695-4521-8a60-f6a07cc49a7f",
   "metadata": {},
   "outputs": [],
   "source": []
  }
 ],
 "metadata": {
  "kernelspec": {
   "display_name": "Python 3 (ipykernel)",
   "language": "python",
   "name": "python3"
  },
  "language_info": {
   "codemirror_mode": {
    "name": "ipython",
    "version": 3
   },
   "file_extension": ".py",
   "mimetype": "text/x-python",
   "name": "python",
   "nbconvert_exporter": "python",
   "pygments_lexer": "ipython3",
   "version": "3.12.4"
  }
 },
 "nbformat": 4,
 "nbformat_minor": 5
}
