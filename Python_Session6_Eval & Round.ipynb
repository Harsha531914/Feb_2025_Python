{
 "cells": [
  {
   "cell_type": "markdown",
   "id": "2ba6f222-3455-4c8f-b262-7759f5b6c414",
   "metadata": {},
   "source": [
    "# input "
   ]
  },
  {
   "cell_type": "code",
   "execution_count": 12,
   "id": "67d2f105-1ec1-4f1a-bcea-fdac89c5c6f6",
   "metadata": {},
   "outputs": [
    {
     "name": "stdin",
     "output_type": "stream",
     "text": [
      " 25\n"
     ]
    },
    {
     "data": {
      "text/plain": [
       "'25'"
      ]
     },
     "execution_count": 12,
     "metadata": {},
     "output_type": "execute_result"
    }
   ],
   "source": [
    "input()"
   ]
  },
  {
   "cell_type": "code",
   "execution_count": 3,
   "id": "40548fe7-2957-41d1-8dfd-c79fe5066ff2",
   "metadata": {},
   "outputs": [
    {
     "name": "stdin",
     "output_type": "stream",
     "text": [
      " 20\n",
      " 30\n",
      " done\n"
     ]
    },
    {
     "data": {
      "text/plain": [
       "'done'"
      ]
     },
     "execution_count": 3,
     "metadata": {},
     "output_type": "execute_result"
    }
   ],
   "source": [
    "input() \n",
    "input()\n",
    "input()\n"
   ]
  },
  {
   "cell_type": "code",
   "execution_count": 6,
   "id": "c8be3121-3a7d-4a3d-adbf-a8584be9e2f9",
   "metadata": {},
   "outputs": [
    {
     "name": "stdin",
     "output_type": "stream",
     "text": [
      "enter your name Python\n",
      "enter your age 10\n",
      "enter your city Hyd\n"
     ]
    },
    {
     "data": {
      "text/plain": [
       "'Hyd'"
      ]
     },
     "execution_count": 6,
     "metadata": {},
     "output_type": "execute_result"
    }
   ],
   "source": [
    "input('enter your name')\n",
    "input('enter your age')\n",
    "input('enter your city')"
   ]
  },
  {
   "cell_type": "code",
   "execution_count": 9,
   "id": "2777f36a-92a3-47af-bca1-798f4efb91f3",
   "metadata": {},
   "outputs": [
    {
     "name": "stdin",
     "output_type": "stream",
     "text": [
      "enter the value 1 100\n",
      "enter the value 2 200\n"
     ]
    },
    {
     "data": {
      "text/plain": [
       "'100200'"
      ]
     },
     "execution_count": 9,
     "metadata": {},
     "output_type": "execute_result"
    }
   ],
   "source": [
    "a= input('enter the value 1')\n",
    "b= input('enter the value 2')\n",
    "a+b"
   ]
  },
  {
   "cell_type": "code",
   "execution_count": 10,
   "id": "4ea16cd1-bb8a-4907-af67-2350e876839e",
   "metadata": {},
   "outputs": [
    {
     "name": "stdin",
     "output_type": "stream",
     "text": [
      "enter the value 1 100\n",
      "enter the value 2 200\n"
     ]
    },
    {
     "data": {
      "text/plain": [
       "300"
      ]
     },
     "execution_count": 10,
     "metadata": {},
     "output_type": "execute_result"
    }
   ],
   "source": [
    "a= int(input('enter the value 1'))\n",
    "b= int(input('enter the value 2'))\n",
    "a+b"
   ]
  },
  {
   "cell_type": "code",
   "execution_count": 6,
   "id": "1a28a78a-dc9c-4ca4-bee6-c32e6ffc5b2e",
   "metadata": {},
   "outputs": [
    {
     "name": "stdin",
     "output_type": "stream",
     "text": [
      "enter n1 100\n",
      "enter n2 200\n"
     ]
    },
    {
     "data": {
      "text/plain": [
       "300"
      ]
     },
     "execution_count": 6,
     "metadata": {},
     "output_type": "execute_result"
    }
   ],
   "source": [
    "n1= int(input('enter n1'))\n",
    "n2= int(input('enter n2'))\n",
    "n1+n2 # Method 1\n"
   ]
  },
  {
   "cell_type": "code",
   "execution_count": 4,
   "id": "22dbec8a-11b4-49d9-a01b-71c68688d96e",
   "metadata": {},
   "outputs": [
    {
     "name": "stdin",
     "output_type": "stream",
     "text": [
      "enter n1 100\n",
      "enter n2 200\n"
     ]
    },
    {
     "data": {
      "text/plain": [
       "300"
      ]
     },
     "execution_count": 4,
     "metadata": {},
     "output_type": "execute_result"
    }
   ],
   "source": [
    "n1 =input('enter n1')\n",
    "n2= input('enter n2')\n",
    "int(n1) + int(n2)"
   ]
  },
  {
   "cell_type": "markdown",
   "id": "c7874d26-b5be-438d-8826-03330398877e",
   "metadata": {},
   "source": [
    "# Eval"
   ]
  },
  {
   "cell_type": "markdown",
   "id": "27c7f3b1-dc3b-4975-b18e-68dcd427a96d",
   "metadata": {},
   "source": [
    "- When ever we represent eval,it represent a mathematics term.\n",
    "- Instead of focus of int and float every time ,simply use eval conversion always\n",
    "- If you apply eval it will convert the value based on base datatype\n",
    "- Means if user provide integer,it will convert into int type \n",
    "- If user will provide the float value ,it will convert into float \n",
    "- If user provide the string ,it will provide error.Since string is a math term.\n",
    "- It will Convert String values to Numbers"
   ]
  },
  {
   "cell_type": "code",
   "execution_count": 9,
   "id": "c5de9337-9bbb-4fca-8ab7-1dffb792e411",
   "metadata": {},
   "outputs": [
    {
     "name": "stdin",
     "output_type": "stream",
     "text": [
      "enter n1 100\n",
      "enter n2 200.25\n"
     ]
    },
    {
     "name": "stdout",
     "output_type": "stream",
     "text": [
      "The addition of 100 and 200.25 is  300.25\n"
     ]
    }
   ],
   "source": [
    "n1= eval(input('enter n1'))\n",
    "n2= eval(input('enter n2'))\n",
    "n1+n2\n",
    "print(f'The addition of {n1} and {n2} is  {n1+n2}')"
   ]
  },
  {
   "cell_type": "markdown",
   "id": "d1ca171b-4601-4e3c-97d2-f7bb4b2136c4",
   "metadata": {},
   "source": [
    "- One Error is bracket neverf closed means you open the bracket but forget to close\n",
    "- Unterminated string literal ,check at last of the string quotes provide or not"
   ]
  },
  {
   "cell_type": "markdown",
   "id": "d8829e02-b07d-4baf-84a7-ce0859f49601",
   "metadata": {},
   "source": [
    "# wap to take 3 numbers and print aveage \n",
    "     # wap to to take breadth and height from key board\n",
    "     # Calculate are of triangle 1/2 BH\n",
    "# wap to calculate radius from key board\n",
    "     # pr *r*r\n",
    "# WAP to ask the user to calculate bill amount\n",
    "     # calculate the user to calculate how much bill amount he wants to give\n",
    "     # Calculate the total bill\n",
    "# WAP to ask the user to calculate bill amount\n",
    "     # calculate the user to calculate how much percentage he wants to give\n",
    "     # Calculate the total bill"
   ]
  },
  {
   "cell_type": "code",
   "execution_count": 6,
   "id": "9d06c768-d173-480e-b9fd-40da31ffd94b",
   "metadata": {},
   "outputs": [
    {
     "name": "stdin",
     "output_type": "stream",
     "text": [
      "enter number 1 100\n",
      "enter number 2 250\n",
      "enter number 3 500\n"
     ]
    },
    {
     "name": "stdout",
     "output_type": "stream",
     "text": [
      "Average of 100 and 250 and 500 is 283.3333333333333\n"
     ]
    }
   ],
   "source": [
    "# 1 Calculate the average of three numbers\n",
    "a= eval(input('enter number 1'))\n",
    "b= eval(input('enter number 2'))\n",
    "c= eval(input('enter number 3'))\n",
    "print(f'Average of {a} and {b} and {c} is {(a+b+c)/3}')"
   ]
  },
  {
   "cell_type": "code",
   "execution_count": 7,
   "id": "eb09d22d-ad49-4688-8298-1aaf64703bd6",
   "metadata": {},
   "outputs": [
    {
     "name": "stdin",
     "output_type": "stream",
     "text": [
      "enter breadth 100\n",
      "enter height 250\n"
     ]
    },
    {
     "name": "stdout",
     "output_type": "stream",
     "text": [
      "area of triangle is 12500.0\n"
     ]
    }
   ],
   "source": [
    "# 2 Calculate area of triangle \n",
    "breadth= eval(input('enter breadth'))\n",
    "height= eval(input('enter height'))\n",
    "print(f'area of triangle is {(1/2)*breadth*height}')\n"
   ]
  },
  {
   "cell_type": "code",
   "execution_count": 8,
   "id": "4baf3128-a570-4b4e-8c63-a01603cd070a",
   "metadata": {},
   "outputs": [
    {
     "name": "stdin",
     "output_type": "stream",
     "text": [
      "enter radius 21\n"
     ]
    },
    {
     "name": "stdout",
     "output_type": "stream",
     "text": [
      " raduis is 1384.74\n"
     ]
    }
   ],
   "source": [
    "# 3 Calculate the radius of circle\n",
    "a= eval(input('enter radius'))\n",
    "print(f' raduis is {3.14*a*a}')"
   ]
  },
  {
   "cell_type": "code",
   "execution_count": 2,
   "id": "1ed17ddc-6a73-44a4-8a08-cc119e86fc07",
   "metadata": {},
   "outputs": [
    {
     "name": "stdin",
     "output_type": "stream",
     "text": [
      "Enter the Bill amount 1300\n",
      "enter the tip 20\n"
     ]
    },
    {
     "name": "stdout",
     "output_type": "stream",
     "text": [
      "Total amount is 1320\n"
     ]
    }
   ],
   "source": [
    "# 4 WAP to ask the user to calculate bill amount\n",
    "a= eval(input('Enter the Bill amount'))\n",
    "b= eval(input('enter the tip'))\n",
    "print(f'Total amount is {a+b}')\n"
   ]
  },
  {
   "cell_type": "code",
   "execution_count": 5,
   "id": "585efdb7-54ff-4721-83da-64da5e680519",
   "metadata": {},
   "outputs": [
    {
     "name": "stdin",
     "output_type": "stream",
     "text": [
      "Enter the Bill amount 1300\n",
      "enter the tip 20\n"
     ]
    },
    {
     "name": "stdout",
     "output_type": "stream",
     "text": [
      "Total amount is 1560.0\n"
     ]
    }
   ],
   "source": [
    "# 5 WAP to ask the user to calculate bill amount + tip percentage\n",
    "a= eval(input('Enter the Bill amount'))\n",
    "b= eval(input('enter the tip'))\n",
    "c= (b/100)*a\n",
    "print(f'Total amount is {a+c}')\n"
   ]
  },
  {
   "cell_type": "markdown",
   "id": "2e846214-d954-4373-ac19-572edc939ddc",
   "metadata": {},
   "source": [
    "# round"
   ]
  },
  {
   "cell_type": "markdown",
   "id": "3de5a2ac-5ac4-4bc0-81da-563bf7d630ac",
   "metadata": {},
   "source": [
    "- Round off to the nearest value\n"
   ]
  },
  {
   "cell_type": "code",
   "execution_count": 4,
   "id": "ca710b2a-4019-481c-b705-97cd39d14787",
   "metadata": {},
   "outputs": [
    {
     "data": {
      "text/plain": [
       "20"
      ]
     },
     "execution_count": 4,
     "metadata": {},
     "output_type": "execute_result"
    }
   ],
   "source": [
    "round(19.66666)"
   ]
  },
  {
   "cell_type": "code",
   "execution_count": 5,
   "id": "2db08340-37b4-4c22-98e9-df8b81c38095",
   "metadata": {},
   "outputs": [
    {
     "data": {
      "text/plain": [
       "19.67"
      ]
     },
     "execution_count": 5,
     "metadata": {},
     "output_type": "execute_result"
    }
   ],
   "source": [
    "round(19.66666,2)"
   ]
  },
  {
   "cell_type": "code",
   "execution_count": 21,
   "id": "3bf52e9f-8302-4f8b-9710-141eb63c7883",
   "metadata": {},
   "outputs": [
    {
     "data": {
      "text/plain": [
       "19.667"
      ]
     },
     "execution_count": 21,
     "metadata": {},
     "output_type": "execute_result"
    }
   ],
   "source": [
    "round(19.66666,3)"
   ]
  },
  {
   "cell_type": "code",
   "execution_count": 24,
   "id": "1fbc810a-0b9a-4721-817f-e22d70de4324",
   "metadata": {},
   "outputs": [
    {
     "name": "stdin",
     "output_type": "stream",
     "text": [
      "enter number 1 100\n",
      "enter number 2 200\n",
      "enter number 3 250.25\n"
     ]
    },
    {
     "name": "stdout",
     "output_type": "stream",
     "text": [
      "Average of 100 and 200 and 250.25 is 183.42 \n"
     ]
    }
   ],
   "source": [
    "a= eval(input('enter number 1'))\n",
    "b= eval(input('enter number 2'))\n",
    "c= eval(input('enter number 3'))\n",
    "avg=round(((a+b+c)/3),2)\n",
    "print(f'Average of {a} and {b} and {c} is {avg} ')"
   ]
  },
  {
   "cell_type": "code",
   "execution_count": 3,
   "id": "2966a510-75a8-4ffe-b024-c57e1c1008d4",
   "metadata": {},
   "outputs": [
    {
     "name": "stdin",
     "output_type": "stream",
     "text": [
      "Father Hello Papa\n",
      "son Hello Beta\n",
      "Father I heard that your Results came out\n",
      "son Yes papa\n",
      "Father Great! How much percentage you got?\n",
      "son I will tell you subject marks ,you calculate the percentage\n",
      "Father Wow thats super game! Lets Start\n",
      "Enter Telugu Marks 91\n",
      "Enter Hindi Marks 85\n",
      "Enter English Marks 81\n",
      "Enter Maths Marks 95\n",
      "Enter Science Marks 92\n",
      "Enter Social Studies Marks 87\n"
     ]
    },
    {
     "name": "stdout",
     "output_type": "stream",
     "text": [
      "Percentage of Marks 88.5\n"
     ]
    }
   ],
   "source": [
    "input('Father')\n",
    "input('son')\n",
    "input('Father')\n",
    "input('son')\n",
    "input('Father')\n",
    "input('son')\n",
    "input('Father')\n",
    "Telugu= eval(input('Enter Telugu Marks'))\n",
    "Hindi= eval(input('Enter Hindi Marks'))\n",
    "English= eval(input('Enter English Marks'))\n",
    "Maths= eval(input('Enter Maths Marks'))\n",
    "Science= eval(input('Enter Science Marks'))\n",
    "SocialStudies= eval(input('Enter Social Studies Marks'))\n",
    "print(f'Percentage of Marks {(Telugu+Hindi+English+Maths+Science+SocialStudies)/6}')\n",
    "\n",
    "\n",
    "\n"
   ]
  },
  {
   "cell_type": "code",
   "execution_count": null,
   "id": "d4105f75-4178-41e9-bc94-d4fe2472aeec",
   "metadata": {},
   "outputs": [],
   "source": []
  }
 ],
 "metadata": {
  "kernelspec": {
   "display_name": "Python 3 (ipykernel)",
   "language": "python",
   "name": "python3"
  },
  "language_info": {
   "codemirror_mode": {
    "name": "ipython",
    "version": 3
   },
   "file_extension": ".py",
   "mimetype": "text/x-python",
   "name": "python",
   "nbconvert_exporter": "python",
   "pygments_lexer": "ipython3",
   "version": "3.12.4"
  }
 },
 "nbformat": 4,
 "nbformat_minor": 5
}
