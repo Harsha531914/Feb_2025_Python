{
 "cells": [
  {
   "cell_type": "markdown",
   "id": "bf07e171-04f1-46b6-85a5-7e6e80161e83",
   "metadata": {},
   "source": [
    "# Type Casting"
   ]
  },
  {
   "cell_type": "markdown",
   "id": "6be85710-0c7f-41a2-a1e9-94e3d81b13fa",
   "metadata": {},
   "source": [
    "- Changing one Datatype to another Data Type\n",
    "- Integer to Float\n",
    "- Integer to Boolean\n"
   ]
  },
  {
   "cell_type": "markdown",
   "id": "4e71e419-868c-4951-bad3-bce38b1b47eb",
   "metadata": {},
   "source": [
    "# Integer to other data type Conversion"
   ]
  },
  {
   "cell_type": "code",
   "execution_count": 7,
   "id": "b7799808-aeb4-4b63-ac99-d1710f6ff74e",
   "metadata": {},
   "outputs": [
    {
     "data": {
      "text/plain": [
       "100"
      ]
     },
     "execution_count": 7,
     "metadata": {},
     "output_type": "execute_result"
    }
   ],
   "source": [
    "num =100\n",
    "type(num)\n",
    "num"
   ]
  },
  {
   "cell_type": "code",
   "execution_count": 9,
   "id": "936116aa-1d6c-4382-872b-d9d739088ce4",
   "metadata": {},
   "outputs": [
    {
     "data": {
      "text/plain": [
       "100.0"
      ]
     },
     "execution_count": 9,
     "metadata": {},
     "output_type": "execute_result"
    }
   ],
   "source": [
    "float_number=float(num)\n",
    "type(float_number)\n",
    "float_number"
   ]
  },
  {
   "cell_type": "code",
   "execution_count": 38,
   "id": "bad3a67d-fe4f-4ca0-bfe4-3566053f1e83",
   "metadata": {},
   "outputs": [
    {
     "data": {
      "text/plain": [
       "'100'"
      ]
     },
     "execution_count": 38,
     "metadata": {},
     "output_type": "execute_result"
    }
   ],
   "source": [
    "String_num = str(num)\n",
    "String_num"
   ]
  },
  {
   "cell_type": "code",
   "execution_count": 13,
   "id": "ab18d4aa-5c7a-4e72-bd18-76c633b71968",
   "metadata": {},
   "outputs": [
    {
     "name": "stdout",
     "output_type": "stream",
     "text": [
      "100.0\n",
      "100\n",
      "True\n"
     ]
    }
   ],
   "source": [
    "print(float(100))\n",
    "print(str(100))\n",
    "print(bool(100))"
   ]
  },
  {
   "cell_type": "markdown",
   "id": "cc05c96d-dd4e-4ec6-bd56-9b1bb14b8880",
   "metadata": {},
   "source": [
    "- Boolean Conversion : Any Integer Value other than 0 becomes True\n",
    "- Boolean Conversion of 0 is False"
   ]
  },
  {
   "cell_type": "code",
   "execution_count": 14,
   "id": "ed3756cf-c4a4-4795-a67a-09d92446058a",
   "metadata": {},
   "outputs": [
    {
     "name": "stdout",
     "output_type": "stream",
     "text": [
      "-100.0\n",
      "-100\n",
      "False\n"
     ]
    }
   ],
   "source": [
    "print(float(-100))\n",
    "print(str(-100))\n",
    "print(bool(0))"
   ]
  },
  {
   "cell_type": "markdown",
   "id": "fc69042b-01ba-4fd8-b334-5b10c9867445",
   "metadata": {},
   "source": [
    "# Float to other Data Types Conversion "
   ]
  },
  {
   "cell_type": "code",
   "execution_count": 2,
   "id": "51143dea-78b2-4202-89b1-df29aa31daa0",
   "metadata": {},
   "outputs": [
    {
     "name": "stdout",
     "output_type": "stream",
     "text": [
      "100.0\n"
     ]
    }
   ],
   "source": [
    "num1= 100.0\n",
    "type(num1)\n",
    "print(num1)"
   ]
  },
  {
   "cell_type": "code",
   "execution_count": 3,
   "id": "50660d06-bd0f-430a-9d8f-6c4319d9eced",
   "metadata": {},
   "outputs": [
    {
     "name": "stdout",
     "output_type": "stream",
     "text": [
      "100\n"
     ]
    }
   ],
   "source": [
    "Integer = int(num1)\n",
    "print(Integer)"
   ]
  },
  {
   "cell_type": "code",
   "execution_count": 19,
   "id": "3e2daa5e-6c2b-42ff-8462-53460a5db8d7",
   "metadata": {},
   "outputs": [
    {
     "name": "stdout",
     "output_type": "stream",
     "text": [
      "100.0 <class 'str'>\n"
     ]
    }
   ],
   "source": [
    "String = str(num1)\n",
    "print(String,type(String))"
   ]
  },
  {
   "cell_type": "code",
   "execution_count": 20,
   "id": "b8b92a18-d22b-417a-8f24-9a8eade791d8",
   "metadata": {},
   "outputs": [
    {
     "name": "stdout",
     "output_type": "stream",
     "text": [
      "100\n",
      "100.25\n",
      "True\n"
     ]
    }
   ],
   "source": [
    "print(int(100.25))\n",
    "print(str(100.25))\n",
    "print(bool(100.25))"
   ]
  },
  {
   "cell_type": "code",
   "execution_count": 21,
   "id": "ef74f57c-9013-4982-bae8-c92d2fce1604",
   "metadata": {},
   "outputs": [
    {
     "name": "stdout",
     "output_type": "stream",
     "text": [
      "-100\n",
      "-100.25\n",
      "True\n"
     ]
    }
   ],
   "source": [
    "print(int(-100.25))\n",
    "print(str(-100.25))\n",
    "print(bool(-100.25))"
   ]
  },
  {
   "cell_type": "code",
   "execution_count": 22,
   "id": "a23646b0-a278-492e-8555-9dcb6477e036",
   "metadata": {},
   "outputs": [
    {
     "name": "stdout",
     "output_type": "stream",
     "text": [
      "100\n",
      "100.25\n",
      "False\n"
     ]
    }
   ],
   "source": [
    "print(int(100.25))\n",
    "print(str(100.25))\n",
    "print(bool(0))"
   ]
  },
  {
   "cell_type": "markdown",
   "id": "ff5457ad-4a86-4ac3-b361-6f01956aa58b",
   "metadata": {},
   "source": [
    "# String to other Types "
   ]
  },
  {
   "cell_type": "code",
   "execution_count": 26,
   "id": "cad9ce9e-b8fd-4a43-8a83-b9114d4874e5",
   "metadata": {},
   "outputs": [
    {
     "data": {
      "text/plain": [
       "True"
      ]
     },
     "execution_count": 26,
     "metadata": {},
     "output_type": "execute_result"
    }
   ],
   "source": [
    "# int ('Apple') # Error\n",
    "# Float ('Apple') # Error\n",
    "bool('Apple') # True"
   ]
  },
  {
   "cell_type": "code",
   "execution_count": 29,
   "id": "6d0beaf8-b063-405d-bd33-a57b06e3e9d7",
   "metadata": {},
   "outputs": [
    {
     "data": {
      "text/plain": [
       "False"
      ]
     },
     "execution_count": 29,
     "metadata": {},
     "output_type": "execute_result"
    }
   ],
   "source": [
    "bool('') "
   ]
  },
  {
   "cell_type": "code",
   "execution_count": 30,
   "id": "748649d1-57c1-49ba-8817-e0f8abdfc1ee",
   "metadata": {},
   "outputs": [
    {
     "data": {
      "text/plain": [
       "10"
      ]
     },
     "execution_count": 30,
     "metadata": {},
     "output_type": "execute_result"
    }
   ],
   "source": [
    "int('10')"
   ]
  },
  {
   "cell_type": "code",
   "execution_count": 31,
   "id": "b1c9dad3-6be3-4e7a-a7a3-c73c848c2eb2",
   "metadata": {},
   "outputs": [
    {
     "data": {
      "text/plain": [
       "10.0"
      ]
     },
     "execution_count": 31,
     "metadata": {},
     "output_type": "execute_result"
    }
   ],
   "source": [
    "float('10')"
   ]
  },
  {
   "cell_type": "code",
   "execution_count": 32,
   "id": "2053d395-68ba-4286-b8ce-50e6b73e37aa",
   "metadata": {},
   "outputs": [
    {
     "data": {
      "text/plain": [
       "True"
      ]
     },
     "execution_count": 32,
     "metadata": {},
     "output_type": "execute_result"
    }
   ],
   "source": [
    "bool('10')"
   ]
  },
  {
   "cell_type": "code",
   "execution_count": 34,
   "id": "9dd04af2-5ee0-4b1f-8d20-429e71b8c2a6",
   "metadata": {},
   "outputs": [
    {
     "data": {
      "text/plain": [
       "10.5"
      ]
     },
     "execution_count": 34,
     "metadata": {},
     "output_type": "execute_result"
    }
   ],
   "source": [
    "#int('10.5') \n",
    "float('10.5')\n",
    "\n"
   ]
  },
  {
   "cell_type": "code",
   "execution_count": 35,
   "id": "b8b128ae-9fcb-44f3-af07-a64a3a08b11f",
   "metadata": {},
   "outputs": [
    {
     "data": {
      "text/plain": [
       "10.5"
      ]
     },
     "execution_count": 35,
     "metadata": {},
     "output_type": "execute_result"
    }
   ],
   "source": [
    "float('10')\n",
    "float('10.5')"
   ]
  },
  {
   "cell_type": "code",
   "execution_count": 36,
   "id": "107b5a61-f7ce-4e24-8ce7-fe868e00b15b",
   "metadata": {},
   "outputs": [
    {
     "data": {
      "text/plain": [
       "10"
      ]
     },
     "execution_count": 36,
     "metadata": {},
     "output_type": "execute_result"
    }
   ],
   "source": [
    "# How to convert 10.5 to 10\n",
    "int(float(10.5))"
   ]
  },
  {
   "cell_type": "markdown",
   "id": "bdf5fe5f-c1a6-4452-9762-69c4672e4950",
   "metadata": {},
   "source": [
    "# Bool to another data type conversion"
   ]
  },
  {
   "cell_type": "code",
   "execution_count": 37,
   "id": "c41d7251-4c06-4592-a327-63d8df688ff9",
   "metadata": {},
   "outputs": [
    {
     "data": {
      "text/plain": [
       "False"
      ]
     },
     "execution_count": 37,
     "metadata": {},
     "output_type": "execute_result"
    }
   ],
   "source": [
    "bool('10') #True\n",
    "bool(10) # True\n",
    "bool('10.5') # True\n",
    "bool(10.5) #True\n",
    "bool(0) # False\n",
    "bool(0.0) # False\n",
    "bool('0') # True\n",
    "bool('0.0') # True\n",
    "bool('Apple') # True\n",
    "bool('') # False"
   ]
  },
  {
   "cell_type": "code",
   "execution_count": null,
   "id": "15a45691-b364-45f6-b65d-1ab0cfb8599e",
   "metadata": {},
   "outputs": [],
   "source": []
  }
 ],
 "metadata": {
  "kernelspec": {
   "display_name": "Python 3 (ipykernel)",
   "language": "python",
   "name": "python3"
  },
  "language_info": {
   "codemirror_mode": {
    "name": "ipython",
    "version": 3
   },
   "file_extension": ".py",
   "mimetype": "text/x-python",
   "name": "python",
   "nbconvert_exporter": "python",
   "pygments_lexer": "ipython3",
   "version": "3.12.4"
  }
 },
 "nbformat": 4,
 "nbformat_minor": 5
}
